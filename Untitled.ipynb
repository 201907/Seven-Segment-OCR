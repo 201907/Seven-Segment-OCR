{
 "cells": [
  {
   "cell_type": "code",
   "execution_count": 1,
   "metadata": {},
   "outputs": [
    {
     "name": "stderr",
     "output_type": "stream",
     "text": [
      "/home/aamomeni/anaconda3/lib/python3.6/site-packages/h5py/__init__.py:36: FutureWarning: Conversion of the second argument of issubdtype from `float` to `np.floating` is deprecated. In future, it will be treated as `np.float64 == np.dtype(float).type`.\n",
      "  from ._conv import register_converters as _register_converters\n",
      "Using TensorFlow backend.\n",
      "/home/aamomeni/anaconda3/lib/python3.6/site-packages/sklearn/cross_validation.py:41: DeprecationWarning: This module was deprecated in version 0.18 in favor of the model_selection module into which all the refactored classes and functions are moved. Also note that the interface of the new CV iterators are different from that of this module. This module will be removed in 0.20.\n",
      "  \"This module will be removed in 0.20.\", DeprecationWarning)\n",
      "/home/aamomeni/Seven-Segment-OCR/Model.py:18: UserWarning: \n",
      "This call to matplotlib.use() has no effect because the backend has already\n",
      "been chosen; matplotlib.use() must be called *before* pylab, matplotlib.pyplot,\n",
      "or matplotlib.backends is imported for the first time.\n",
      "\n",
      "The backend was *originally* set to 'module://ipykernel.pylab.backend_inline' by the following code:\n",
      "  File \"/home/aamomeni/anaconda3/lib/python3.6/runpy.py\", line 193, in _run_module_as_main\n",
      "    \"__main__\", mod_spec)\n",
      "  File \"/home/aamomeni/anaconda3/lib/python3.6/runpy.py\", line 85, in _run_code\n",
      "    exec(code, run_globals)\n",
      "  File \"/home/aamomeni/anaconda3/lib/python3.6/site-packages/ipykernel_launcher.py\", line 16, in <module>\n",
      "    app.launch_new_instance()\n",
      "  File \"/home/aamomeni/anaconda3/lib/python3.6/site-packages/traitlets/config/application.py\", line 658, in launch_instance\n",
      "    app.start()\n",
      "  File \"/home/aamomeni/anaconda3/lib/python3.6/site-packages/ipykernel/kernelapp.py\", line 478, in start\n",
      "    self.io_loop.start()\n",
      "  File \"/home/aamomeni/anaconda3/lib/python3.6/site-packages/zmq/eventloop/ioloop.py\", line 177, in start\n",
      "    super(ZMQIOLoop, self).start()\n",
      "  File \"/home/aamomeni/anaconda3/lib/python3.6/site-packages/tornado/ioloop.py\", line 888, in start\n",
      "    handler_func(fd_obj, events)\n",
      "  File \"/home/aamomeni/anaconda3/lib/python3.6/site-packages/tornado/stack_context.py\", line 277, in null_wrapper\n",
      "    return fn(*args, **kwargs)\n",
      "  File \"/home/aamomeni/anaconda3/lib/python3.6/site-packages/zmq/eventloop/zmqstream.py\", line 440, in _handle_events\n",
      "    self._handle_recv()\n",
      "  File \"/home/aamomeni/anaconda3/lib/python3.6/site-packages/zmq/eventloop/zmqstream.py\", line 472, in _handle_recv\n",
      "    self._run_callback(callback, msg)\n",
      "  File \"/home/aamomeni/anaconda3/lib/python3.6/site-packages/zmq/eventloop/zmqstream.py\", line 414, in _run_callback\n",
      "    callback(*args, **kwargs)\n",
      "  File \"/home/aamomeni/anaconda3/lib/python3.6/site-packages/tornado/stack_context.py\", line 277, in null_wrapper\n",
      "    return fn(*args, **kwargs)\n",
      "  File \"/home/aamomeni/anaconda3/lib/python3.6/site-packages/ipykernel/kernelbase.py\", line 283, in dispatcher\n",
      "    return self.dispatch_shell(stream, msg)\n",
      "  File \"/home/aamomeni/anaconda3/lib/python3.6/site-packages/ipykernel/kernelbase.py\", line 233, in dispatch_shell\n",
      "    handler(stream, idents, msg)\n",
      "  File \"/home/aamomeni/anaconda3/lib/python3.6/site-packages/ipykernel/kernelbase.py\", line 399, in execute_request\n",
      "    user_expressions, allow_stdin)\n",
      "  File \"/home/aamomeni/anaconda3/lib/python3.6/site-packages/ipykernel/ipkernel.py\", line 208, in do_execute\n",
      "    res = shell.run_cell(code, store_history=store_history, silent=silent)\n",
      "  File \"/home/aamomeni/anaconda3/lib/python3.6/site-packages/ipykernel/zmqshell.py\", line 537, in run_cell\n",
      "    return super(ZMQInteractiveShell, self).run_cell(*args, **kwargs)\n",
      "  File \"/home/aamomeni/anaconda3/lib/python3.6/site-packages/IPython/core/interactiveshell.py\", line 2728, in run_cell\n",
      "    interactivity=interactivity, compiler=compiler, result=result)\n",
      "  File \"/home/aamomeni/anaconda3/lib/python3.6/site-packages/IPython/core/interactiveshell.py\", line 2850, in run_ast_nodes\n",
      "    if self.run_code(code, result):\n",
      "  File \"/home/aamomeni/anaconda3/lib/python3.6/site-packages/IPython/core/interactiveshell.py\", line 2910, in run_code\n",
      "    exec(code_obj, self.user_global_ns, self.user_ns)\n",
      "  File \"<ipython-input-1-320965945349>\", line 2, in <module>\n",
      "    from Model import Model_Multi, Model_Single\n",
      "  File \"/home/aamomeni/Seven-Segment-OCR/Model.py\", line 16, in <module>\n",
      "    from Datasets import Dataset_Multi, Dataset_Single\n",
      "  File \"/home/aamomeni/Seven-Segment-OCR/Datasets.py\", line 4, in <module>\n",
      "    import matplotlib.pyplot as plt\n",
      "  File \"/home/aamomeni/anaconda3/lib/python3.6/site-packages/matplotlib/pyplot.py\", line 71, in <module>\n",
      "    from matplotlib.backends import pylab_setup\n",
      "  File \"/home/aamomeni/anaconda3/lib/python3.6/site-packages/matplotlib/backends/__init__.py\", line 16, in <module>\n",
      "    line for line in traceback.format_stack()\n",
      "\n",
      "\n",
      "  matplotlib.use('agg')\n",
      "/home/aamomeni/Seven-Segment-OCR/Model.py:198: UserWarning: Update your `Dense` call to the Keras 2 API: `Dense(activation=\"softmax\", name=\"output\", units=11)`\n",
      "  output = Dense(output_dim =11,activation = 'softmax', name='output')(x)\n",
      "/home/aamomeni/Seven-Segment-OCR/Model.py:200: UserWarning: Update your `Model` call to the Keras 2 API: `Model(inputs=Tensor(\"in..., outputs=Tensor(\"ou...)`\n",
      "  self.model = keras.models.Model(input = model_input , output = output)\n"
     ]
    },
    {
     "name": "stdout",
     "output_type": "stream",
     "text": [
      "WARNING:tensorflow:From /home/aamomeni/anaconda3/lib/python3.6/site-packages/tensorflow/python/util/tf_should_use.py:118: initialize_all_variables (from tensorflow.python.ops.variables) is deprecated and will be removed after 2017-03-02.\n",
      "Instructions for updating:\n",
      "Use `tf.global_variables_initializer` instead.\n"
     ]
    },
    {
     "name": "stderr",
     "output_type": "stream",
     "text": [
      "/home/aamomeni/Seven-Segment-OCR/Model.py:207: UserWarning: The `nb_epoch` argument in `fit` has been renamed `epochs`.\n",
      "  self.history = self.model.fit(self.X_train, self.y_train, batch_size= 32, nb_epoch=30, verbose=1, validation_data=(self.X_val, self.y_val))\n"
     ]
    },
    {
     "name": "stdout",
     "output_type": "stream",
     "text": [
      "WARNING:tensorflow:Variable *= will be deprecated. Use variable.assign_mul if you want assignment to the variable value or 'x = x * y' if you want a new python Tensor object.\n",
      "Train on 2064 samples, validate on 688 samples\n",
      "Epoch 1/30\n",
      "2064/2064 [==============================] - 21s 10ms/step - loss: 19.0830 - acc: 0.3934 - val_loss: 13.4931 - val_acc: 0.4084\n",
      "Epoch 2/30\n",
      "2064/2064 [==============================] - 2s 1ms/step - loss: 11.8985 - acc: 0.4016 - val_loss: 10.4940 - val_acc: 0.4084\n",
      "Epoch 3/30\n",
      "2064/2064 [==============================] - 3s 1ms/step - loss: 10.3702 - acc: 0.3997 - val_loss: 9.1263 - val_acc: 0.4084\n",
      "Epoch 4/30\n",
      "2064/2064 [==============================] - 2s 1ms/step - loss: 3.3992 - acc: 0.3910 - val_loss: 2.6828 - val_acc: 0.3343\n",
      "Epoch 5/30\n",
      "2064/2064 [==============================] - 2s 1ms/step - loss: 2.2540 - acc: 0.4535 - val_loss: 2.3537 - val_acc: 0.4259\n",
      "Epoch 6/30\n",
      "2064/2064 [==============================] - 2s 1ms/step - loss: 1.9086 - acc: 0.5155 - val_loss: 2.0413 - val_acc: 0.4724\n",
      "Epoch 7/30\n",
      "2064/2064 [==============================] - 2s 1ms/step - loss: 1.7407 - acc: 0.5654 - val_loss: 1.8018 - val_acc: 0.5451\n",
      "Epoch 8/30\n",
      "2064/2064 [==============================] - 4s 2ms/step - loss: 1.6469 - acc: 0.5838 - val_loss: 1.6123 - val_acc: 0.6483\n",
      "Epoch 9/30\n",
      "2064/2064 [==============================] - 3s 2ms/step - loss: 1.4595 - acc: 0.6444 - val_loss: 1.5882 - val_acc: 0.6337\n",
      "Epoch 10/30\n",
      "2064/2064 [==============================] - 3s 2ms/step - loss: 1.4399 - acc: 0.6579 - val_loss: 1.4895 - val_acc: 0.6919\n",
      "Epoch 11/30\n",
      "2064/2064 [==============================] - 3s 2ms/step - loss: 1.3620 - acc: 0.6841 - val_loss: 1.4997 - val_acc: 0.6250\n",
      "Epoch 12/30\n",
      "2064/2064 [==============================] - 3s 1ms/step - loss: 1.3291 - acc: 0.6923 - val_loss: 1.3174 - val_acc: 0.7195\n",
      "Epoch 13/30\n",
      "2064/2064 [==============================] - 3s 1ms/step - loss: 1.2978 - acc: 0.7069 - val_loss: 1.3725 - val_acc: 0.6860\n",
      "Epoch 14/30\n",
      "2064/2064 [==============================] - 3s 2ms/step - loss: 1.2776 - acc: 0.7132 - val_loss: 1.4997 - val_acc: 0.6308\n",
      "Epoch 15/30\n",
      "2064/2064 [==============================] - 3s 2ms/step - loss: 1.2392 - acc: 0.7171 - val_loss: 1.2448 - val_acc: 0.7529\n",
      "Epoch 16/30\n",
      "2064/2064 [==============================] - 3s 2ms/step - loss: 1.1832 - acc: 0.7466 - val_loss: 1.5782 - val_acc: 0.6134\n",
      "Epoch 17/30\n",
      "2064/2064 [==============================] - 3s 2ms/step - loss: 1.1930 - acc: 0.7306 - val_loss: 1.2424 - val_acc: 0.7267\n",
      "Epoch 18/30\n",
      "2064/2064 [==============================] - 3s 2ms/step - loss: 1.1836 - acc: 0.7379 - val_loss: 1.4143 - val_acc: 0.6599\n",
      "Epoch 19/30\n",
      "2064/2064 [==============================] - 3s 2ms/step - loss: 1.1492 - acc: 0.7495 - val_loss: 1.2263 - val_acc: 0.7311\n",
      "Epoch 20/30\n",
      "2064/2064 [==============================] - 3s 1ms/step - loss: 1.1633 - acc: 0.7471 - val_loss: 1.4076 - val_acc: 0.6526\n",
      "Epoch 21/30\n",
      "2064/2064 [==============================] - 3s 1ms/step - loss: 1.1340 - acc: 0.7573 - val_loss: 1.2164 - val_acc: 0.7500\n",
      "Epoch 22/30\n",
      "2064/2064 [==============================] - 3s 2ms/step - loss: 1.1106 - acc: 0.7665 - val_loss: 1.4897 - val_acc: 0.6744\n",
      "Epoch 23/30\n",
      "2064/2064 [==============================] - 3s 2ms/step - loss: 1.0912 - acc: 0.7708 - val_loss: 1.2329 - val_acc: 0.7456\n",
      "Epoch 24/30\n",
      "2064/2064 [==============================] - 3s 2ms/step - loss: 1.1000 - acc: 0.7631 - val_loss: 1.4160 - val_acc: 0.6890\n",
      "Epoch 25/30\n",
      "2064/2064 [==============================] - 3s 1ms/step - loss: 1.0951 - acc: 0.7703 - val_loss: 1.3636 - val_acc: 0.6686\n",
      "Epoch 26/30\n",
      "2064/2064 [==============================] - 3s 1ms/step - loss: 1.0505 - acc: 0.7786 - val_loss: 1.1936 - val_acc: 0.7515\n",
      "Epoch 27/30\n",
      "2064/2064 [==============================] - 3s 2ms/step - loss: 1.0257 - acc: 0.7902 - val_loss: 1.2566 - val_acc: 0.7384\n",
      "Epoch 28/30\n",
      "2064/2064 [==============================] - 3s 2ms/step - loss: 1.0478 - acc: 0.7766 - val_loss: 1.2235 - val_acc: 0.7515\n",
      "Epoch 29/30\n",
      "2064/2064 [==============================] - 3s 2ms/step - loss: 1.0407 - acc: 0.7902 - val_loss: 1.2310 - val_acc: 0.7427\n",
      "Epoch 30/30\n",
      "2064/2064 [==============================] - 3s 2ms/step - loss: 1.0108 - acc: 0.8033 - val_loss: 1.2653 - val_acc: 0.7355\n"
     ]
    },
    {
     "data": {
      "text/plain": [
       "<Figure size 800x600 with 1 Axes>"
      ]
     },
     "metadata": {},
     "output_type": "display_data"
    },
    {
     "data": {
      "text/plain": [
       "<Figure size 800x600 with 1 Axes>"
      ]
     },
     "metadata": {},
     "output_type": "display_data"
    }
   ],
   "source": [
    "from keras.backend.tensorflow_backend import set_session\n",
    "from Model import Model_Multi, Model_Single\n",
    "import tensorflow as tf\n",
    "\n",
    "session_config = tf.ConfigProto()\n",
    "session_config.gpu_options.visible_device_list = \"0\"\n",
    "session_config.gpu_options.allow_growth = True\n",
    "set_session(tf.Session(config=session_config))\n",
    "\n",
    "#model_1 = Model_Multi()\n",
    "#model_1.train_predict()\n",
    "\n",
    "model_2 = Model_Single()\n",
    "model_2.train_predict()"
   ]
  },
  {
   "cell_type": "code",
   "execution_count": null,
   "metadata": {},
   "outputs": [],
   "source": []
  },
  {
   "cell_type": "code",
   "execution_count": null,
   "metadata": {},
   "outputs": [],
   "source": []
  }
 ],
 "metadata": {
  "kernelspec": {
   "display_name": "Python 3",
   "language": "python",
   "name": "python3"
  },
  "language_info": {
   "codemirror_mode": {
    "name": "ipython",
    "version": 3
   },
   "file_extension": ".py",
   "mimetype": "text/x-python",
   "name": "python",
   "nbconvert_exporter": "python",
   "pygments_lexer": "ipython3",
   "version": "3.6.4"
  }
 },
 "nbformat": 4,
 "nbformat_minor": 2
}
